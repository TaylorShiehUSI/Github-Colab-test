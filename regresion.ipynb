{
  "nbformat": 4,
  "nbformat_minor": 0,
  "metadata": {
    "colab": {
      "provenance": [],
      "authorship_tag": "ABX9TyNdXtclYq2N5vfd/pxmkiPb",
      "include_colab_link": true
    },
    "kernelspec": {
      "name": "ir",
      "display_name": "R"
    },
    "language_info": {
      "name": "R"
    }
  },
  "cells": [
    {
      "cell_type": "markdown",
      "metadata": {
        "id": "view-in-github",
        "colab_type": "text"
      },
      "source": [
        "<a href=\"https://colab.research.google.com/github/TaylorShiehUSI/Github-Colab-test/blob/main/regresion.ipynb\" target=\"_parent\"><img src=\"https://colab.research.google.com/assets/colab-badge.svg\" alt=\"Open In Colab\"/></a>"
      ]
    },
    {
      "cell_type": "code",
      "execution_count": 1,
      "metadata": {
        "id": "cYXnkMiwRsft",
        "colab": {
          "base_uri": "https://localhost:8080/",
          "height": 132
        },
        "outputId": "a169a614-5b15-46fc-cf18-7a4b0b144da3"
      },
      "outputs": [
        {
          "output_type": "error",
          "ename": "ERROR",
          "evalue": "ignored",
          "traceback": [
            "Error in library(summarytools): there is no package called ‘summarytools’\nTraceback:\n",
            "1. library(summarytools)"
          ]
        }
      ],
      "source": [
        "knitr::opts_chunk$set(echo = TRUE, warning = FALSE)\n",
        "\n",
        "#install.package('套件名稱')\n",
        "#libraries needed\n",
        "#library(summarytools)  #summary plots"
      ]
    },
    {
      "cell_type": "code",
      "source": [
        "install.packages( pkgs = \"summarytools\" )"
      ],
      "metadata": {
        "colab": {
          "base_uri": "https://localhost:8080/"
        },
        "id": "oLLmGuA5UFAl",
        "outputId": "7e5995d0-5b71-4e25-d172-d760c10ff2c3"
      },
      "execution_count": 7,
      "outputs": [
        {
          "output_type": "stream",
          "name": "stderr",
          "text": [
            "Installing package into ‘/usr/local/lib/R/site-library’\n",
            "(as ‘lib’ is unspecified)\n",
            "\n",
            "also installing the dependency ‘magick’\n",
            "\n",
            "\n",
            "Warning message in install.packages(pkgs = \"summarytools\"):\n",
            "“installation of package ‘magick’ had non-zero exit status”\n",
            "Warning message in install.packages(pkgs = \"summarytools\"):\n",
            "“installation of package ‘summarytools’ had non-zero exit status”\n"
          ]
        }
      ]
    }
  ]
}